{
 "cells": [
  {
   "cell_type": "code",
   "execution_count": 1,
   "id": "dae62f34-9eed-4231-84be-43db943a4bde",
   "metadata": {},
   "outputs": [
    {
     "name": "stdout",
     "output_type": "stream",
     "text": [
      "Requirement already satisfied: pandas in /Library/Frameworks/Python.framework/Versions/3.10/lib/python3.10/site-packages (1.5.2)\n",
      "Requirement already satisfied: pytz>=2020.1 in /Library/Frameworks/Python.framework/Versions/3.10/lib/python3.10/site-packages (from pandas) (2022.7)\n",
      "Requirement already satisfied: python-dateutil>=2.8.1 in /Library/Frameworks/Python.framework/Versions/3.10/lib/python3.10/site-packages (from pandas) (2.8.2)\n",
      "Requirement already satisfied: numpy>=1.21.0 in /Library/Frameworks/Python.framework/Versions/3.10/lib/python3.10/site-packages (from pandas) (1.23.5)\n",
      "Requirement already satisfied: six>=1.5 in /Library/Frameworks/Python.framework/Versions/3.10/lib/python3.10/site-packages (from python-dateutil>=2.8.1->pandas) (1.16.0)\n"
     ]
    }
   ],
   "source": [
    "# Getting the dependencies\n",
    "!pip install pandas"
   ]
  },
  {
   "cell_type": "code",
   "execution_count": 8,
   "id": "fb127af1-4dae-4411-9a30-a4e08988f12b",
   "metadata": {},
   "outputs": [
    {
     "name": "stdout",
     "output_type": "stream",
     "text": [
      "The rpy2.ipython extension is already loaded. To reload it, use:\n",
      "  %reload_ext rpy2.ipython\n"
     ]
    }
   ],
   "source": [
    "%load_ext rpy2.ipython"
   ]
  },
  {
   "cell_type": "code",
   "execution_count": 9,
   "id": "72ddc5f0-8f4a-48ae-993e-3330e5d4d43d",
   "metadata": {},
   "outputs": [],
   "source": [
    "import pandas as pd\n",
    "df = pd.read_csv(\"BlueChipDataset.csv\")"
   ]
  },
  {
   "cell_type": "code",
   "execution_count": 14,
   "id": "7411cd48-3cc9-4662-93d1-95b091e5abb7",
   "metadata": {},
   "outputs": [
    {
     "name": "stdout",
     "output_type": "stream",
     "text": [
      "Rows: 10168 Columns: 14\n",
      "── Column specification ────────────────────────────────────────────────────────\n",
      "Delimiter: \",\"\n",
      "chr (6): Attrition_Flag, Gender, Education_Level, Marital_Status, Income_Cat...\n",
      "dbl (8): CLIENTNUM, Customer_Age, Dependent_count, Months_on_book, Total_Rel...\n",
      "\n",
      "ℹ Use `spec()` to retrieve the full column specification for this data.\n",
      "ℹ Specify the column types or set `show_col_types = FALSE` to quiet this message.\n",
      " [1] \"CLIENTNUM\"                \"Attrition_Flag\"          \n",
      " [3] \"Customer_Age\"             \"Gender\"                  \n",
      " [5] \"Dependent_count\"          \"Education_Level\"         \n",
      " [7] \"Marital_Status\"           \"Income_Category\"         \n",
      " [9] \"Card_Category\"            \"Months_on_book\"          \n",
      "[11] \"Total_Relationship_Count\" \"Months_Inactive_12_mon\"  \n",
      "[13] \"Contacts_Count_12_mon\"    \"Credit_Limit\"            \n"
     ]
    }
   ],
   "source": [
    "%%R \n",
    "library(tidyverse)\n",
    "data = read_csv(\"BlueChipDataset.csv\")\n",
    "\n",
    "colnames(data)"
   ]
  },
  {
   "cell_type": "code",
   "execution_count": 25,
   "id": "d76a111e-ba70-4c98-8cde-57d642ff1cc8",
   "metadata": {},
   "outputs": [
    {
     "name": "stdout",
     "output_type": "stream",
     "text": [
      "# A tibble: 10,168 × 14\n",
      "   CLIENTNUM Attrition_Flag  Customer_Age Gender Dependent_count Education_Level\n",
      "       <dbl> <fct>                  <dbl> <fct>            <dbl> <fct>          \n",
      " 1 768805383 Attrited Custo…           45 M                    3 High School    \n",
      " 2 818770008 Existing Custo…           49 F                    5 Graduate       \n",
      " 3 713982108 Existing Custo…           51 M                    3 Graduate       \n",
      " 4 769911858 Existing Custo…           40 F                    4 High School    \n",
      " 5 709106358 Existing Custo…           40 M                    3 Uneducated     \n",
      " 6 713061558 Existing Custo…           44 M                    2 Graduate       \n",
      " 7 710930508 Attrited Custo…           21 M                    3 College        \n",
      " 8 719661558 Attrited Custo…           19 M                    2 College        \n",
      " 9 708790833 Existing Custo…           42 M                    5 Uneducated     \n",
      "10 710821833 Existing Custo…           65 M                    1 Unknown        \n",
      "# … with 10,158 more rows, and 8 more variables: Marital_Status <fct>,\n",
      "#   Income_Category <fct>, Card_Category <fct>, Months_on_book <dbl>,\n",
      "#   Total_Relationship_Count <dbl>, Months_Inactive_12_mon <dbl>,\n",
      "#   Contacts_Count_12_mon <dbl>, Credit_Limit <dbl>\n"
     ]
    }
   ],
   "source": [
    "%%R\n",
    "# factoring the income \n",
    "data$Income_Category = as.factor(data$Income_Category)\n",
    "data %>% mutate_if(is.character, as.factor)\n"
   ]
  },
  {
   "cell_type": "code",
   "execution_count": null,
   "id": "531bc30c-a69c-4f67-b672-ccf0f3b83cc3",
   "metadata": {},
   "outputs": [],
   "source": []
  }
 ],
 "metadata": {
  "kernelspec": {
   "display_name": "Python 3 (ipykernel)",
   "language": "python",
   "name": "python3"
  },
  "language_info": {
   "codemirror_mode": {
    "name": "ipython",
    "version": 3
   },
   "file_extension": ".py",
   "mimetype": "text/x-python",
   "name": "python",
   "nbconvert_exporter": "python",
   "pygments_lexer": "ipython3",
   "version": "3.10.1"
  }
 },
 "nbformat": 4,
 "nbformat_minor": 5
}
