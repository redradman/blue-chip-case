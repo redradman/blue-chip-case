{
 "cells": [
  {
   "cell_type": "code",
   "execution_count": 1,
   "id": "dae62f34-9eed-4231-84be-43db943a4bde",
   "metadata": {},
   "outputs": [
    {
     "name": "stdout",
     "output_type": "stream",
     "text": [
      "Requirement already satisfied: pandas in /Library/Frameworks/Python.framework/Versions/3.10/lib/python3.10/site-packages (1.5.2)\n",
      "Requirement already satisfied: pytz>=2020.1 in /Library/Frameworks/Python.framework/Versions/3.10/lib/python3.10/site-packages (from pandas) (2022.7)\n",
      "Requirement already satisfied: python-dateutil>=2.8.1 in /Library/Frameworks/Python.framework/Versions/3.10/lib/python3.10/site-packages (from pandas) (2.8.2)\n",
      "Requirement already satisfied: numpy>=1.21.0 in /Library/Frameworks/Python.framework/Versions/3.10/lib/python3.10/site-packages (from pandas) (1.23.5)\n",
      "Requirement already satisfied: six>=1.5 in /Library/Frameworks/Python.framework/Versions/3.10/lib/python3.10/site-packages (from python-dateutil>=2.8.1->pandas) (1.16.0)\n"
     ]
    }
   ],
   "source": [
    "# Getting the dependencies\n",
    "!pip install pandas"
   ]
  },
  {
   "cell_type": "code",
   "execution_count": 8,
   "id": "fb127af1-4dae-4411-9a30-a4e08988f12b",
   "metadata": {},
   "outputs": [
    {
     "name": "stdout",
     "output_type": "stream",
     "text": [
      "The rpy2.ipython extension is already loaded. To reload it, use:\n",
      "  %reload_ext rpy2.ipython\n"
     ]
    }
   ],
   "source": [
    "%load_ext rpy2.ipython"
   ]
  },
  {
   "cell_type": "code",
   "execution_count": 9,
   "id": "72ddc5f0-8f4a-48ae-993e-3330e5d4d43d",
   "metadata": {},
   "outputs": [],
   "source": [
    "import pandas as pd\n",
    "df = pd.read_csv(\"BlueChipDataset.csv\")\n"
   ]
  },
  {
   "cell_type": "code",
   "execution_count": null,
   "id": "ce59912b-bc25-4499-a24f-30792ab355e8",
   "metadata": {},
   "outputs": [],
   "source": []
  },
  {
   "cell_type": "code",
   "execution_count": null,
   "id": "d2044b77-673d-454a-ae38-1d9aa6a948a7",
   "metadata": {},
   "outputs": [],
   "source": []
  },
  {
   "cell_type": "code",
   "execution_count": 30,
   "id": "916f6c83-b3d4-4992-9039-b2402fc4d9ce",
   "metadata": {},
   "outputs": [
    {
     "data": {
      "text/html": [
       "<div>\n",
       "<style scoped>\n",
       "    .dataframe tbody tr th:only-of-type {\n",
       "        vertical-align: middle;\n",
       "    }\n",
       "\n",
       "    .dataframe tbody tr th {\n",
       "        vertical-align: top;\n",
       "    }\n",
       "\n",
       "    .dataframe thead th {\n",
       "        text-align: right;\n",
       "    }\n",
       "</style>\n",
       "<table border=\"1\" class=\"dataframe\">\n",
       "  <thead>\n",
       "    <tr style=\"text-align: right;\">\n",
       "      <th></th>\n",
       "      <th>CLIENTNUM</th>\n",
       "      <th>Customer_Age</th>\n",
       "      <th>Dependent_count</th>\n",
       "      <th>Months_on_book</th>\n",
       "      <th>Total_Relationship_Count</th>\n",
       "      <th>Months_Inactive_12_mon</th>\n",
       "      <th>Contacts_Count_12_mon</th>\n",
       "      <th>Credit_Limit</th>\n",
       "    </tr>\n",
       "  </thead>\n",
       "  <tbody>\n",
       "    <tr>\n",
       "      <th>count</th>\n",
       "      <td>1.016800e+04</td>\n",
       "      <td>10168.000000</td>\n",
       "      <td>10168.000000</td>\n",
       "      <td>10168.000000</td>\n",
       "      <td>10168.000000</td>\n",
       "      <td>10168.000000</td>\n",
       "      <td>10168.00000</td>\n",
       "      <td>10168.000000</td>\n",
       "    </tr>\n",
       "    <tr>\n",
       "      <th>mean</th>\n",
       "      <td>7.392792e+08</td>\n",
       "      <td>44.734264</td>\n",
       "      <td>2.345692</td>\n",
       "      <td>35.997443</td>\n",
       "      <td>3.809107</td>\n",
       "      <td>2.343725</td>\n",
       "      <td>2.44640</td>\n",
       "      <td>8572.029770</td>\n",
       "    </tr>\n",
       "    <tr>\n",
       "      <th>std</th>\n",
       "      <td>3.695261e+07</td>\n",
       "      <td>10.044976</td>\n",
       "      <td>1.298094</td>\n",
       "      <td>7.996655</td>\n",
       "      <td>1.558173</td>\n",
       "      <td>1.010794</td>\n",
       "      <td>1.10289</td>\n",
       "      <td>9040.872045</td>\n",
       "    </tr>\n",
       "    <tr>\n",
       "      <th>min</th>\n",
       "      <td>7.080821e+08</td>\n",
       "      <td>18.000000</td>\n",
       "      <td>0.000000</td>\n",
       "      <td>13.000000</td>\n",
       "      <td>1.000000</td>\n",
       "      <td>0.000000</td>\n",
       "      <td>0.00000</td>\n",
       "      <td>1438.300000</td>\n",
       "    </tr>\n",
       "    <tr>\n",
       "      <th>25%</th>\n",
       "      <td>7.130102e+08</td>\n",
       "      <td>40.000000</td>\n",
       "      <td>1.000000</td>\n",
       "      <td>32.000000</td>\n",
       "      <td>3.000000</td>\n",
       "      <td>2.000000</td>\n",
       "      <td>2.00000</td>\n",
       "      <td>2540.000000</td>\n",
       "    </tr>\n",
       "    <tr>\n",
       "      <th>50%</th>\n",
       "      <td>7.179516e+08</td>\n",
       "      <td>46.000000</td>\n",
       "      <td>2.000000</td>\n",
       "      <td>36.000000</td>\n",
       "      <td>4.000000</td>\n",
       "      <td>2.000000</td>\n",
       "      <td>2.00000</td>\n",
       "      <td>4511.500000</td>\n",
       "    </tr>\n",
       "    <tr>\n",
       "      <th>75%</th>\n",
       "      <td>7.732911e+08</td>\n",
       "      <td>51.000000</td>\n",
       "      <td>3.000000</td>\n",
       "      <td>40.000000</td>\n",
       "      <td>5.000000</td>\n",
       "      <td>3.000000</td>\n",
       "      <td>3.00000</td>\n",
       "      <td>10960.250000</td>\n",
       "    </tr>\n",
       "    <tr>\n",
       "      <th>max</th>\n",
       "      <td>8.283431e+08</td>\n",
       "      <td>73.000000</td>\n",
       "      <td>5.000000</td>\n",
       "      <td>56.000000</td>\n",
       "      <td>6.000000</td>\n",
       "      <td>6.000000</td>\n",
       "      <td>6.00000</td>\n",
       "      <td>34516.000000</td>\n",
       "    </tr>\n",
       "  </tbody>\n",
       "</table>\n",
       "</div>"
      ],
      "text/plain": [
       "          CLIENTNUM  Customer_Age  Dependent_count  Months_on_book  \\\n",
       "count  1.016800e+04  10168.000000     10168.000000    10168.000000   \n",
       "mean   7.392792e+08     44.734264         2.345692       35.997443   \n",
       "std    3.695261e+07     10.044976         1.298094        7.996655   \n",
       "min    7.080821e+08     18.000000         0.000000       13.000000   \n",
       "25%    7.130102e+08     40.000000         1.000000       32.000000   \n",
       "50%    7.179516e+08     46.000000         2.000000       36.000000   \n",
       "75%    7.732911e+08     51.000000         3.000000       40.000000   \n",
       "max    8.283431e+08     73.000000         5.000000       56.000000   \n",
       "\n",
       "       Total_Relationship_Count  Months_Inactive_12_mon  \\\n",
       "count              10168.000000            10168.000000   \n",
       "mean                   3.809107                2.343725   \n",
       "std                    1.558173                1.010794   \n",
       "min                    1.000000                0.000000   \n",
       "25%                    3.000000                2.000000   \n",
       "50%                    4.000000                2.000000   \n",
       "75%                    5.000000                3.000000   \n",
       "max                    6.000000                6.000000   \n",
       "\n",
       "       Contacts_Count_12_mon  Credit_Limit  \n",
       "count            10168.00000  10168.000000  \n",
       "mean                 2.44640   8572.029770  \n",
       "std                  1.10289   9040.872045  \n",
       "min                  0.00000   1438.300000  \n",
       "25%                  2.00000   2540.000000  \n",
       "50%                  2.00000   4511.500000  \n",
       "75%                  3.00000  10960.250000  \n",
       "max                  6.00000  34516.000000  "
      ]
     },
     "execution_count": 30,
     "metadata": {},
     "output_type": "execute_result"
    }
   ],
   "source": [
    "df.describe()"
   ]
  },
  {
   "cell_type": "code",
   "execution_count": 26,
   "id": "bd86df77-b731-4091-ab46-33e29e0035af",
   "metadata": {},
   "outputs": [],
   "source": [
    "##### R BELOW HERE"
   ]
  },
  {
   "cell_type": "code",
   "execution_count": 27,
   "id": "7411cd48-3cc9-4662-93d1-95b091e5abb7",
   "metadata": {},
   "outputs": [
    {
     "name": "stdout",
     "output_type": "stream",
     "text": [
      "Rows: 10168 Columns: 14\n",
      "── Column specification ────────────────────────────────────────────────────────\n",
      "Delimiter: \",\"\n",
      "chr (6): Attrition_Flag, Gender, Education_Level, Marital_Status, Income_Cat...\n",
      "dbl (8): CLIENTNUM, Customer_Age, Dependent_count, Months_on_book, Total_Rel...\n",
      "\n",
      "ℹ Use `spec()` to retrieve the full column specification for this data.\n",
      "ℹ Specify the column types or set `show_col_types = FALSE` to quiet this message.\n",
      " [1] \"CLIENTNUM\"                \"Attrition_Flag\"          \n",
      " [3] \"Customer_Age\"             \"Gender\"                  \n",
      " [5] \"Dependent_count\"          \"Education_Level\"         \n",
      " [7] \"Marital_Status\"           \"Income_Category\"         \n",
      " [9] \"Card_Category\"            \"Months_on_book\"          \n",
      "[11] \"Total_Relationship_Count\" \"Months_Inactive_12_mon\"  \n",
      "[13] \"Contacts_Count_12_mon\"    \"Credit_Limit\"            \n"
     ]
    }
   ],
   "source": [
    "%%R \n",
    "library(tidyverse)\n",
    "data = read_csv(\"BlueChipDataset.csv\")\n",
    "\n",
    "colnames(data)"
   ]
  },
  {
   "cell_type": "code",
   "execution_count": 28,
   "id": "d76a111e-ba70-4c98-8cde-57d642ff1cc8",
   "metadata": {},
   "outputs": [
    {
     "name": "stdout",
     "output_type": "stream",
     "text": [
      "# A tibble: 10,168 × 14\n",
      "   CLIENTNUM Attrition_Flag  Customer_Age Gender Dependent_count Education_Level\n",
      "       <dbl> <fct>                  <dbl> <fct>            <dbl> <fct>          \n",
      " 1 768805383 Attrited Custo…           45 M                    3 High School    \n",
      " 2 818770008 Existing Custo…           49 F                    5 Graduate       \n",
      " 3 713982108 Existing Custo…           51 M                    3 Graduate       \n",
      " 4 769911858 Existing Custo…           40 F                    4 High School    \n",
      " 5 709106358 Existing Custo…           40 M                    3 Uneducated     \n",
      " 6 713061558 Existing Custo…           44 M                    2 Graduate       \n",
      " 7 710930508 Attrited Custo…           21 M                    3 College        \n",
      " 8 719661558 Attrited Custo…           19 M                    2 College        \n",
      " 9 708790833 Existing Custo…           42 M                    5 Uneducated     \n",
      "10 710821833 Existing Custo…           65 M                    1 Unknown        \n",
      "# … with 10,158 more rows, and 8 more variables: Marital_Status <fct>,\n",
      "#   Income_Category <fct>, Card_Category <fct>, Months_on_book <dbl>,\n",
      "#   Total_Relationship_Count <dbl>, Months_Inactive_12_mon <dbl>,\n",
      "#   Contacts_Count_12_mon <dbl>, Credit_Limit <dbl>\n"
     ]
    }
   ],
   "source": [
    "%%R\n",
    "# factoring the income \n",
    "data$Income_Category = as.factor(data$Income_Category)\n",
    "data %>% mutate_if(is.character, as.factor)\n"
   ]
  },
  {
   "cell_type": "markdown",
   "id": "557ccebd-b038-49e0-ada6-b05cbb1d036d",
   "metadata": {},
   "source": [
    "## Charts of current data"
   ]
  },
  {
   "cell_type": "markdown",
   "id": "ab229b3a-9153-4115-863a-130807d269f9",
   "metadata": {
    "tags": []
   },
   "source": [
    "### Gender count chart"
   ]
  },
  {
   "cell_type": "code",
   "execution_count": 35,
   "id": "531bc30c-a69c-4f67-b672-ccf0f3b83cc3",
   "metadata": {},
   "outputs": [
    {
     "data": {
      "image/png": "[encoded data removed]"
     },
     "metadata": {},
     "output_type": "display_data"
    }
   ],
   "source": [
    "%%R\n",
    "ggplot(data, aes(x = Gender)) + geom_bar()"
   ]
  },
  {
   "cell_type": "code",
   "execution_count": null,
   "id": "7c45fb90-da6b-4496-baa5-de2e9e1e4f0a",
   "metadata": {},
   "outputs": [],
   "source": []
  }
 ],
 "metadata": {
  "kernelspec": {
   "display_name": "Python 3 (ipykernel)",
   "language": "python",
   "name": "python3"
  },
  "language_info": {
   "codemirror_mode": {
    "name": "ipython",
    "version": 3
   },
   "file_extension": ".py",
   "mimetype": "text/x-python",
   "name": "python",
   "nbconvert_exporter": "python",
   "pygments_lexer": "ipython3",
   "version": "3.10.1"
  }
 },
 "nbformat": 4,
 "nbformat_minor": 5
}
