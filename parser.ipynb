{
 "cells": [
  {
   "cell_type": "code",
   "execution_count": 2,
   "id": "dae62f34-9eed-4231-84be-43db943a4bde",
   "metadata": {},
   "outputs": [
    {
     "name": "stdout",
     "output_type": "stream",
     "text": [
      "Requirement already satisfied: pandas in /Library/Frameworks/Python.framework/Versions/3.10/lib/python3.10/site-packages (1.5.2)\n",
      "Requirement already satisfied: python-dateutil>=2.8.1 in /Library/Frameworks/Python.framework/Versions/3.10/lib/python3.10/site-packages (from pandas) (2.8.2)\n",
      "Requirement already satisfied: numpy>=1.21.0 in /Library/Frameworks/Python.framework/Versions/3.10/lib/python3.10/site-packages (from pandas) (1.23.5)\n",
      "Requirement already satisfied: pytz>=2020.1 in /Library/Frameworks/Python.framework/Versions/3.10/lib/python3.10/site-packages (from pandas) (2022.7)\n",
      "Requirement already satisfied: six>=1.5 in /Library/Frameworks/Python.framework/Versions/3.10/lib/python3.10/site-packages (from python-dateutil>=2.8.1->pandas) (1.16.0)\n"
     ]
    }
   ],
   "source": [
    "# Getting the dependencies\n",
    "!pip install pandas"
   ]
  },
  {
   "cell_type": "code",
   "execution_count": 3,
   "id": "fb127af1-4dae-4411-9a30-a4e08988f12b",
   "metadata": {},
   "outputs": [],
   "source": [
    "%load_ext rpy2.ipython"
   ]
  },
  {
   "cell_type": "code",
   "execution_count": 4,
   "id": "72ddc5f0-8f4a-48ae-993e-3330e5d4d43d",
   "metadata": {},
   "outputs": [],
   "source": [
    "import pandas as pd\n",
    "df = pd.read_csv(\"BlueChipDataset.csv\")\n"
   ]
  },
  {
   "cell_type": "code",
   "execution_count": null,
   "id": "ce59912b-bc25-4499-a24f-30792ab355e8",
   "metadata": {},
   "outputs": [],
   "source": []
  },
  {
   "cell_type": "code",
   "execution_count": 5,
   "id": "d2044b77-673d-454a-ae38-1d9aa6a948a7",
   "metadata": {},
   "outputs": [
    {
     "data": {
      "text/plain": [
       "<bound method DataFrame.drop of        CLIENTNUM     Attrition_Flag  Customer_Age Gender  Dependent_count  \\\n",
       "0      768805383  Attrited Customer            45      M                3   \n",
       "1      818770008  Existing Customer            49      F                5   \n",
       "2      713982108  Existing Customer            51      M                3   \n",
       "3      769911858  Existing Customer            40      F                4   \n",
       "4      709106358  Existing Customer            40      M                3   \n",
       "...          ...                ...           ...    ...              ...   \n",
       "10163  778929783  Attrited Customer            40      M                3   \n",
       "10164  716996583  Attrited Customer            19      M                3   \n",
       "10165  713053383  Attrited Customer            18      M                3   \n",
       "10166  803595858  Attrited Customer            56      F                3   \n",
       "10167  710754933  Attrited Customer            61      F                0   \n",
       "\n",
       "      Education_Level Marital_Status Income_Category Card_Category  \\\n",
       "0         High School        Married     $60K - $80K          Blue   \n",
       "1            Graduate         Single  Less than $40K          Blue   \n",
       "2            Graduate        Married    $80K - $120K          Blue   \n",
       "3         High School        Unknown  Less than $40K          Blue   \n",
       "4          Uneducated        Married     $60K - $80K          Blue   \n",
       "...               ...            ...             ...           ...   \n",
       "10163        Graduate       Divorced    $80K - $120K        Silver   \n",
       "10164         College         Single  Less than $40K        Silver   \n",
       "10165         College         Single  Less than $40K        Silver   \n",
       "10166     High School        Married     $40K - $60K        Silver   \n",
       "10167        Graduate        Married  Less than $40K        Silver   \n",
       "\n",
       "       Months_on_book  Total_Relationship_Count  Months_Inactive_12_mon  \\\n",
       "0                  39                         5                       1   \n",
       "1                  44                         6                       1   \n",
       "2                  36                         4                       1   \n",
       "3                  34                         3                       4   \n",
       "4                  21                         5                       1   \n",
       "...               ...                       ...                     ...   \n",
       "10163              22                         2                       2   \n",
       "10164              37                         3                       1   \n",
       "10165              36                         1                       1   \n",
       "10166              51                         5                       2   \n",
       "10167              49                         6                       2   \n",
       "\n",
       "       Contacts_Count_12_mon  Credit_Limit  \n",
       "0                          3       12691.0  \n",
       "1                          2        8256.0  \n",
       "2                          0        3418.0  \n",
       "3                          1        3313.0  \n",
       "4                          0        4716.0  \n",
       "...                      ...           ...  \n",
       "10163                      3        1925.0  \n",
       "10164                      2        3073.0  \n",
       "10165                      3       34516.0  \n",
       "10166                      1        1438.3  \n",
       "10167                      3        1438.3  \n",
       "\n",
       "[10168 rows x 14 columns]>"
      ]
     },
     "execution_count": 5,
     "metadata": {},
     "output_type": "execute_result"
    }
   ],
   "source": [
    "df.count()\n",
    "\n",
    "df.describe()\n",
    "df.drop"
   ]
  },
  {
   "cell_type": "code",
   "execution_count": 6,
   "id": "916f6c83-b3d4-4992-9039-b2402fc4d9ce",
   "metadata": {},
   "outputs": [
    {
     "data": {
      "text/html": [
       "<div>\n",
       "<style scoped>\n",
       "    .dataframe tbody tr th:only-of-type {\n",
       "        vertical-align: middle;\n",
       "    }\n",
       "\n",
       "    .dataframe tbody tr th {\n",
       "        vertical-align: top;\n",
       "    }\n",
       "\n",
       "    .dataframe thead th {\n",
       "        text-align: right;\n",
       "    }\n",
       "</style>\n",
       "<table border=\"1\" class=\"dataframe\">\n",
       "  <thead>\n",
       "    <tr style=\"text-align: right;\">\n",
       "      <th></th>\n",
       "      <th>CLIENTNUM</th>\n",
       "      <th>Customer_Age</th>\n",
       "      <th>Dependent_count</th>\n",
       "      <th>Months_on_book</th>\n",
       "      <th>Total_Relationship_Count</th>\n",
       "      <th>Months_Inactive_12_mon</th>\n",
       "      <th>Contacts_Count_12_mon</th>\n",
       "      <th>Credit_Limit</th>\n",
       "    </tr>\n",
       "  </thead>\n",
       "  <tbody>\n",
       "    <tr>\n",
       "      <th>count</th>\n",
       "      <td>1.016800e+04</td>\n",
       "      <td>10168.000000</td>\n",
       "      <td>10168.000000</td>\n",
       "      <td>10168.000000</td>\n",
       "      <td>10168.000000</td>\n",
       "      <td>10168.000000</td>\n",
       "      <td>10168.00000</td>\n",
       "      <td>10168.000000</td>\n",
       "    </tr>\n",
       "    <tr>\n",
       "      <th>mean</th>\n",
       "      <td>7.392792e+08</td>\n",
       "      <td>44.734264</td>\n",
       "      <td>2.345692</td>\n",
       "      <td>35.997443</td>\n",
       "      <td>3.809107</td>\n",
       "      <td>2.343725</td>\n",
       "      <td>2.44640</td>\n",
       "      <td>8572.029770</td>\n",
       "    </tr>\n",
       "    <tr>\n",
       "      <th>std</th>\n",
       "      <td>3.695261e+07</td>\n",
       "      <td>10.044976</td>\n",
       "      <td>1.298094</td>\n",
       "      <td>7.996655</td>\n",
       "      <td>1.558173</td>\n",
       "      <td>1.010794</td>\n",
       "      <td>1.10289</td>\n",
       "      <td>9040.872045</td>\n",
       "    </tr>\n",
       "    <tr>\n",
       "      <th>min</th>\n",
       "      <td>7.080821e+08</td>\n",
       "      <td>18.000000</td>\n",
       "      <td>0.000000</td>\n",
       "      <td>13.000000</td>\n",
       "      <td>1.000000</td>\n",
       "      <td>0.000000</td>\n",
       "      <td>0.00000</td>\n",
       "      <td>1438.300000</td>\n",
       "    </tr>\n",
       "    <tr>\n",
       "      <th>25%</th>\n",
       "      <td>7.130102e+08</td>\n",
       "      <td>40.000000</td>\n",
       "      <td>1.000000</td>\n",
       "      <td>32.000000</td>\n",
       "      <td>3.000000</td>\n",
       "      <td>2.000000</td>\n",
       "      <td>2.00000</td>\n",
       "      <td>2540.000000</td>\n",
       "    </tr>\n",
       "    <tr>\n",
       "      <th>50%</th>\n",
       "      <td>7.179516e+08</td>\n",
       "      <td>46.000000</td>\n",
       "      <td>2.000000</td>\n",
       "      <td>36.000000</td>\n",
       "      <td>4.000000</td>\n",
       "      <td>2.000000</td>\n",
       "      <td>2.00000</td>\n",
       "      <td>4511.500000</td>\n",
       "    </tr>\n",
       "    <tr>\n",
       "      <th>75%</th>\n",
       "      <td>7.732911e+08</td>\n",
       "      <td>51.000000</td>\n",
       "      <td>3.000000</td>\n",
       "      <td>40.000000</td>\n",
       "      <td>5.000000</td>\n",
       "      <td>3.000000</td>\n",
       "      <td>3.00000</td>\n",
       "      <td>10960.250000</td>\n",
       "    </tr>\n",
       "    <tr>\n",
       "      <th>max</th>\n",
       "      <td>8.283431e+08</td>\n",
       "      <td>73.000000</td>\n",
       "      <td>5.000000</td>\n",
       "      <td>56.000000</td>\n",
       "      <td>6.000000</td>\n",
       "      <td>6.000000</td>\n",
       "      <td>6.00000</td>\n",
       "      <td>34516.000000</td>\n",
       "    </tr>\n",
       "  </tbody>\n",
       "</table>\n",
       "</div>"
      ],
      "text/plain": [
       "          CLIENTNUM  Customer_Age  Dependent_count  Months_on_book  \\\n",
       "count  1.016800e+04  10168.000000     10168.000000    10168.000000   \n",
       "mean   7.392792e+08     44.734264         2.345692       35.997443   \n",
       "std    3.695261e+07     10.044976         1.298094        7.996655   \n",
       "min    7.080821e+08     18.000000         0.000000       13.000000   \n",
       "25%    7.130102e+08     40.000000         1.000000       32.000000   \n",
       "50%    7.179516e+08     46.000000         2.000000       36.000000   \n",
       "75%    7.732911e+08     51.000000         3.000000       40.000000   \n",
       "max    8.283431e+08     73.000000         5.000000       56.000000   \n",
       "\n",
       "       Total_Relationship_Count  Months_Inactive_12_mon  \\\n",
       "count              10168.000000            10168.000000   \n",
       "mean                   3.809107                2.343725   \n",
       "std                    1.558173                1.010794   \n",
       "min                    1.000000                0.000000   \n",
       "25%                    3.000000                2.000000   \n",
       "50%                    4.000000                2.000000   \n",
       "75%                    5.000000                3.000000   \n",
       "max                    6.000000                6.000000   \n",
       "\n",
       "       Contacts_Count_12_mon  Credit_Limit  \n",
       "count            10168.00000  10168.000000  \n",
       "mean                 2.44640   8572.029770  \n",
       "std                  1.10289   9040.872045  \n",
       "min                  0.00000   1438.300000  \n",
       "25%                  2.00000   2540.000000  \n",
       "50%                  2.00000   4511.500000  \n",
       "75%                  3.00000  10960.250000  \n",
       "max                  6.00000  34516.000000  "
      ]
     },
     "execution_count": 6,
     "metadata": {},
     "output_type": "execute_result"
    }
   ],
   "source": [
    "df.describe()"
   ]
  },
  {
   "cell_type": "code",
   "execution_count": 7,
   "id": "bd86df77-b731-4091-ab46-33e29e0035af",
   "metadata": {},
   "outputs": [],
   "source": [
    "##### R BELOW HERE"
   ]
  },
  {
   "cell_type": "code",
   "execution_count": 8,
   "id": "7411cd48-3cc9-4662-93d1-95b091e5abb7",
   "metadata": {},
   "outputs": [
    {
     "name": "stdout",
     "output_type": "stream",
     "text": [
      "── Attaching packages ─────────────────────────────────────── tidyverse 1.3.2 ──\n",
      "✔ ggplot2 3.3.6     ✔ purrr   0.3.4\n",
      "✔ tibble  3.1.7     ✔ dplyr   1.0.9\n",
      "✔ tidyr   1.2.0     ✔ stringr 1.4.0\n",
      "✔ readr   2.1.3     ✔ forcats 0.5.1\n",
      "── Conflicts ────────────────────────────────────────── tidyverse_conflicts() ──\n",
      "✖ dplyr::filter() masks stats::filter()\n",
      "✖ dplyr::lag()    masks stats::lag()\n",
      "Rows: 10168 Columns: 14\n",
      "── Column specification ────────────────────────────────────────────────────────\n",
      "Delimiter: \",\"\n",
      "chr (6): Attrition_Flag, Gender, Education_Level, Marital_Status, Income_Cat...\n",
      "dbl (8): CLIENTNUM, Customer_Age, Dependent_count, Months_on_book, Total_Rel...\n",
      "\n",
      "ℹ Use `spec()` to retrieve the full column specification for this data.\n",
      "ℹ Specify the column types or set `show_col_types = FALSE` to quiet this message.\n",
      " [1] \"CLIENTNUM\"                \"Attrition_Flag\"          \n",
      " [3] \"Customer_Age\"             \"Gender\"                  \n",
      " [5] \"Dependent_count\"          \"Education_Level\"         \n",
      " [7] \"Marital_Status\"           \"Income_Category\"         \n",
      " [9] \"Card_Category\"            \"Months_on_book\"          \n",
      "[11] \"Total_Relationship_Count\" \"Months_Inactive_12_mon\"  \n",
      "[13] \"Contacts_Count_12_mon\"    \"Credit_Limit\"            \n"
     ]
    }
   ],
   "source": [
    "%%R \n",
    "library(tidyverse)\n",
    "data = read_csv(\"BlueChipDataset.csv\")\n",
    "\n",
    "colnames(data)"
   ]
  },
  {
   "cell_type": "code",
   "execution_count": 9,
   "id": "d76a111e-ba70-4c98-8cde-57d642ff1cc8",
   "metadata": {},
   "outputs": [
    {
     "name": "stdout",
     "output_type": "stream",
     "text": [
      "# A tibble: 10,168 × 14\n",
      "   CLIENTNUM Attrition_Flag  Customer_Age Gender Dependent_count Education_Level\n",
      "       <dbl> <fct>                  <dbl> <fct>            <dbl> <fct>          \n",
      " 1 768805383 Attrited Custo…           45 M                    3 High School    \n",
      " 2 818770008 Existing Custo…           49 F                    5 Graduate       \n",
      " 3 713982108 Existing Custo…           51 M                    3 Graduate       \n",
      " 4 769911858 Existing Custo…           40 F                    4 High School    \n",
      " 5 709106358 Existing Custo…           40 M                    3 Uneducated     \n",
      " 6 713061558 Existing Custo…           44 M                    2 Graduate       \n",
      " 7 710930508 Attrited Custo…           21 M                    3 College        \n",
      " 8 719661558 Attrited Custo…           19 M                    2 College        \n",
      " 9 708790833 Existing Custo…           42 M                    5 Uneducated     \n",
      "10 710821833 Existing Custo…           65 M                    1 Unknown        \n",
      "# … with 10,158 more rows, and 8 more variables: Marital_Status <fct>,\n",
      "#   Income_Category <fct>, Card_Category <fct>, Months_on_book <dbl>,\n",
      "#   Total_Relationship_Count <dbl>, Months_Inactive_12_mon <dbl>,\n",
      "#   Contacts_Count_12_mon <dbl>, Credit_Limit <dbl>\n"
     ]
    }
   ],
   "source": [
    "%%R\n",
    "# factoring the income \n",
    "data$Income_Category = as.factor(data$Income_Category)\n",
    "data %>% mutate_if(is.character, as.factor)"
   ]
  },
  {
   "cell_type": "markdown",
   "id": "557ccebd-b038-49e0-ada6-b05cbb1d036d",
   "metadata": {
    "tags": []
   },
   "source": [
    "## Charts of current data"
   ]
  },
  {
   "cell_type": "markdown",
   "id": "ab229b3a-9153-4115-863a-130807d269f9",
   "metadata": {
    "tags": []
   },
   "source": [
    "### Gender count chart"
   ]
  },
  {
   "cell_type": "code",
   "execution_count": 10,
   "id": "531bc30c-a69c-4f67-b672-ccf0f3b83cc3",
   "metadata": {},
   "outputs": [
    {
     "data": {
      "image/png": "[encoded data removed]"
     },
     "metadata": {},
     "output_type": "display_data"
    }
   ],
   "source": [
    "%%R\n",
    "ggplot(data, aes(x = Gender)) + geom_bar()"
   ]
  },
  {
   "cell_type": "markdown",
   "id": "e147c19b-9eca-4212-92d8-5160ed75e4be",
   "metadata": {},
   "source": [
    "### Chart for number of dependents"
   ]
  },
  {
   "cell_type": "code",
   "execution_count": 11,
   "id": "7c45fb90-da6b-4496-baa5-de2e9e1e4f0a",
   "metadata": {},
   "outputs": [
    {
     "data": {
      "image/png": "[encoded data removed]"
     },
     "metadata": {},
     "output_type": "display_data"
    }
   ],
   "source": [
    "%%R\n",
    "ggplot(data, aes(x = Dependent_count)) + geom_bar()"
   ]
  },
  {
   "cell_type": "markdown",
   "id": "f853aa6d-9632-41c8-a118-c991fa686c66",
   "metadata": {},
   "source": [
    "### Chart showing distribution of age"
   ]
  },
  {
   "cell_type": "code",
   "execution_count": 12,
   "id": "19f9934f-e264-4676-aff9-887d6da018ae",
   "metadata": {},
   "outputs": [
    {
     "data": {
      "image/png": "[encoded data removed]"
     },
     "metadata": {},
     "output_type": "display_data"
    }
   ],
   "source": [
    "%%R\n",
    "ggplot(data, aes(x = Customer_Age)) + geom_histogram(binwidth = 1)"
   ]
  },
  {
   "cell_type": "markdown",
   "id": "8ae6c992-e452-45cc-a994-c6a92e5259c7",
   "metadata": {},
   "source": [
    "### Chart showing the count of education level"
   ]
  },
  {
   "cell_type": "code",
   "execution_count": 13,
   "id": "5b640433-73dc-461a-a3fd-460ac7e25d8b",
   "metadata": {},
   "outputs": [
    {
     "name": "stdout",
     "output_type": "stream",
     "text": [
      "NULL\n"
     ]
    }
   ],
   "source": [
    "%%R # test\n",
    "ggplot(data, aes(x = Education_Level)) + geom_bar()"
   ]
  },
  {
   "cell_type": "markdown",
   "id": "db283eb6-1025-4f2c-a8a1-9c5587b12a7a",
   "metadata": {},
   "source": [
    "### Chart showing the count in different income categories"
   ]
  },
  {
   "cell_type": "code",
   "execution_count": 14,
   "id": "700817ba-4845-4378-8749-6f21dd8af58b",
   "metadata": {},
   "outputs": [
    {
     "data": {
      "image/png": "[encoded data removed]"
     },
     "metadata": {},
     "output_type": "display_data"
    }
   ],
   "source": [
    "%%R\n",
    "ggplot(data, aes(x = Income_Category)) + geom_bar()"
   ]
  },
  {
   "cell_type": "markdown",
   "id": "ffe7de27-6a92-49ce-8cc6-fd705971a48d",
   "metadata": {
    "tags": []
   },
   "source": [
    "### Chart showing the count for different card category"
   ]
  },
  {
   "cell_type": "code",
   "execution_count": 15,
   "id": "6d1ff6cb-cb2a-4362-9d85-c5c605df28a6",
   "metadata": {},
   "outputs": [
    {
     "data": {
      "image/png": "[encoded data removed]"
     },
     "metadata": {},
     "output_type": "display_data"
    }
   ],
   "source": [
    "%%R\n",
    "ggplot(data, aes(x = Card_Category)) + geom_bar()"
   ]
  },
  {
   "cell_type": "markdown",
   "id": "28b56068-a0be-4a08-bb95-a3aa554a5e34",
   "metadata": {
    "tags": []
   },
   "source": [
    "## Identification of the Problem\n",
    "It seems that the majority of the users are using the blue card\n",
    "Assuming that the users are spending the maximum amount of the card on monthly basis for the first 3 months, based on the cashback in the first quarter the companies would be losing about 10 dollars per user who maxes out their card.\n",
    "\n",
    "### Reorienting\n",
    "The grpah below shows that half of the holder of the blue card have the attrition flag suggesting their lack of interest in this card and this is consistant with the first review in the case"
   ]
  },
  {
   "cell_type": "code",
   "execution_count": 38,
   "id": "8e25f1b6-eccf-4322-b50e-bc11a28076d7",
   "metadata": {},
   "outputs": [
    {
     "name": "stdout",
     "output_type": "stream",
     "text": [
      "\n",
      "    Blue     Gold Platinum   Silver \n",
      "    9334      111       20      703 \n"
     ]
    }
   ],
   "source": [
    "%%R\n",
    "table(data$Card_Category)"
   ]
  },
  {
   "cell_type": "code",
   "execution_count": 93,
   "id": "788ece91-ad75-41a1-b510-be59d54f1cb2",
   "metadata": {},
   "outputs": [
    {
     "name": "stdout",
     "output_type": "stream",
     "text": [
      "\n",
      "    Blue     Gold Platinum   Silver \n",
      "    1890       24        6      272 \n"
     ]
    }
   ],
   "source": [
    "%%R\n",
    "filter(data, Attrition_Flag == \"Attrited Customer\")$Card_Category |> table()"
   ]
  },
  {
   "cell_type": "markdown",
   "id": "01e5b4f0-efcf-4c90-bd61-6b737dbe0eee",
   "metadata": {
    "tags": []
   },
   "source": [
    "## Which card do high income individuals get?"
   ]
  },
  {
   "cell_type": "markdown",
   "id": "224723ca-f507-4f6e-9a1f-7ecc19d12dd9",
   "metadata": {},
   "source": [
    "##### Finding the categories of income in the data"
   ]
  },
  {
   "cell_type": "code",
   "execution_count": 36,
   "id": "0a3fa787-2d76-460b-a363-acb775c4debe",
   "metadata": {},
   "outputs": [
    {
     "name": "stdout",
     "output_type": "stream",
     "text": [
      "[1] $60K - $80K    Less than $40K $80K - $120K   $40K - $60K    $120K +       \n",
      "[6] Unknown       \n",
      "6 Levels: $120K + $40K - $60K $60K - $80K $80K - $120K ... Unknown\n"
     ]
    }
   ],
   "source": [
    "%%R\n",
    "unique(data$Income_Category)"
   ]
  },
  {
   "cell_type": "code",
   "execution_count": 107,
   "id": "b12dc603-0e68-4070-a3c3-9c4b556a7e79",
   "metadata": {},
   "outputs": [
    {
     "name": "stdout",
     "output_type": "stream",
     "text": [
      "\n",
      "    Blue     Gold Platinum   Silver \n",
      "     597       15        4       63 \n"
     ]
    }
   ],
   "source": [
    "%%R\n",
    "filter(data, Income_Category == \"$120K +\" )$Card_Category |> table()"
   ]
  },
  {
   "cell_type": "code",
   "execution_count": 96,
   "id": "7d42debc-e36e-4507-b03b-c7065817babe",
   "metadata": {},
   "outputs": [
    {
     "name": "stdout",
     "output_type": "stream",
     "text": [
      "# A tibble: 1 × 1\n",
      "    mean\n",
      "   <dbl>\n",
      "1 22163.\n"
     ]
    }
   ],
   "source": [
    "%%R\n",
    "filter(data, Card_Category == \"Platinum\" & Income_Category == \"Less than $40K\") |> summarize(mean = mean(Credit_Limit))"
   ]
  },
  {
   "cell_type": "code",
   "execution_count": 105,
   "id": "97fc8b2b-80fa-40c1-9c1e-685d016801d5",
   "metadata": {},
   "outputs": [
    {
     "name": "stdout",
     "output_type": "stream",
     "text": [
      "# A tibble: 2 × 2\n",
      "  Card_Category     n\n",
      "  <chr>         <int>\n",
      "1 Blue            101\n",
      "2 Silver           15\n"
     ]
    }
   ],
   "source": [
    "%%R\n",
    "filter(data, Income_Category == \"$120K +\", Attrition_Flag == \"Attrited Customer\") |> group_by(Card_Category) |> summarize(n = n())"
   ]
  },
  {
   "cell_type": "code",
   "execution_count": 106,
   "id": "96f99cd7-3bc1-4e1a-a7c9-a8644ff2735a",
   "metadata": {},
   "outputs": [
    {
     "name": "stdout",
     "output_type": "stream",
     "text": [
      "# A tibble: 4 × 2\n",
      "  Card_Category     n\n",
      "  <chr>         <int>\n",
      "1 Blue            496\n",
      "2 Gold             15\n",
      "3 Platinum          4\n",
      "4 Silver           48\n"
     ]
    }
   ],
   "source": [
    "%%R\n",
    "filter(data, Income_Category == \"$120K +\", Attrition_Flag != \"Attrited Customer\") |> group_by(Card_Category) |> summarize(n = n())"
   ]
  },
  {
   "cell_type": "code",
   "execution_count": 108,
   "id": "f3824eae-7638-499d-816a-6834df4cbef3",
   "metadata": {},
   "outputs": [
    {
     "name": "stdout",
     "output_type": "stream",
     "text": [
      "# A tibble: 4 × 2\n",
      "  Card_Category     n\n",
      "  <chr>         <int>\n",
      "1 Blue           1057\n",
      "2 Gold             13\n",
      "3 Platinum          5\n",
      "4 Silver          133\n"
     ]
    }
   ],
   "source": [
    "%%R\n",
    "filter(data, Income_Category == \"Less than $40K\", Attrition_Flag == \"Attrited Customer\") |> group_by(Card_Category) |> summarize(n = n())"
   ]
  },
  {
   "cell_type": "code",
   "execution_count": 109,
   "id": "e3104082-0d14-47f8-a24f-4965e1dbf0d6",
   "metadata": {},
   "outputs": [
    {
     "name": "stdout",
     "output_type": "stream",
     "text": [
      "# A tibble: 4 × 2\n",
      "  Card_Category     n\n",
      "  <chr>         <int>\n",
      "1 Blue           2651\n",
      "2 Gold             17\n",
      "3 Platinum          1\n",
      "4 Silver           96\n"
     ]
    }
   ],
   "source": [
    "%%R\n",
    "filter(data, Income_Category == \"Less than $40K\", Attrition_Flag != \"Attrited Customer\") |> group_by(Card_Category) |> summarize(n = n())"
   ]
  },
  {
   "cell_type": "markdown",
   "id": "e9c6303f-bed5-4e83-a9ce-32845599cd01",
   "metadata": {},
   "source": [
    "So it seems like that the majority of the high income customers are using the blue card despite it being the base card of the corp"
   ]
  },
  {
   "cell_type": "code",
   "execution_count": 45,
   "id": "41db1f8d-abfb-4513-8046-98a3377cb2c4",
   "metadata": {},
   "outputs": [
    {
     "name": "stdout",
     "output_type": "stream",
     "text": [
      "`summarise()` has grouped output by 'Card_Category'. You can override using the\n",
      "`.groups` argument.\n",
      "# A tibble: 8 × 3\n",
      "# Groups:   Card_Category [4]\n",
      "  Card_Category Gender   mean\n",
      "  <chr>         <chr>   <dbl>\n",
      "1 Blue          F       4289.\n",
      "2 Blue          M      10952.\n",
      "3 Gold          F      20967 \n",
      "4 Gold          M      32543.\n",
      "5 Platinum      F      26281.\n",
      "6 Platinum      M      33558.\n",
      "7 Silver        F      15557.\n",
      "8 Silver        M      24587.\n"
     ]
    }
   ],
   "source": [
    "%%R\n",
    "data |> group_by(Card_Category, Gender) |> summarize(mean = mean(Credit_Limit))"
   ]
  },
  {
   "cell_type": "code",
   "execution_count": 74,
   "id": "68a10394-b3f1-4122-8675-cdf1f6395ea1",
   "metadata": {},
   "outputs": [
    {
     "name": "stdout",
     "output_type": "stream",
     "text": [
      "# A tibble: 7 × 2\n",
      "  Education_Level  mean\n",
      "  <chr>           <dbl>\n",
      "1 College          45.8\n",
      "2 Doctorate        47.1\n",
      "3 Graduate         46.4\n",
      "4 High School      46.7\n",
      "5 Post-Graduate    44.7\n",
      "6 Uneducated       46.5\n",
      "7 Unknown          46.5\n"
     ]
    }
   ],
   "source": [
    "%%R\n",
    "options(max.print = 99999)\n",
    "data$Income_Category = as.factor(data$Income_Category)\n",
    "filter(data, Income_Category == \"$80K - $120K\") |> group_by(Education_Level) |> summarize(mean = mean(Customer_Age))"
   ]
  },
  {
   "cell_type": "code",
   "execution_count": 91,
   "id": "e31344cb-bf47-49bf-bc62-3252765d0b4c",
   "metadata": {},
   "outputs": [
    {
     "name": "stdout",
     "output_type": "stream",
     "text": [
      "# A tibble: 6 × 2\n",
      "  Income_Category     n\n",
      "  <fct>           <dbl>\n",
      "1 $120K +          4.01\n",
      "2 $40K - $60K     14.7 \n",
      "3 $60K - $80K     10.8 \n",
      "4 $80K - $120K    11.0 \n",
      "5 Less than $40K  50.5 \n",
      "6 Unknown          9.03\n"
     ]
    }
   ],
   "source": [
    "%%R\n",
    "filter(data, Customer_Age <= 40) |> group_by(Income_Category) |> summarize(n = n() / 2868 * 100)"
   ]
  },
  {
   "cell_type": "code",
   "execution_count": 92,
   "id": "369c31f8-5892-420d-a29d-c0085721d10c",
   "metadata": {},
   "outputs": [
    {
     "name": "stdout",
     "output_type": "stream",
     "text": [
      "# A tibble: 6 × 2\n",
      "  Income_Category     n\n",
      "  <fct>           <dbl>\n",
      "1 $120K +          7.70\n",
      "2 $40K - $60K     17.2 \n",
      "3 $60K - $80K     14.1 \n",
      "4 $80K - $120K    15.5 \n",
      "5 Less than $40K  34.6 \n",
      "6 Unknown         10.9 \n"
     ]
    }
   ],
   "source": [
    "%%R\n",
    "filter(data, Customer_Age >= 40) |> group_by(Income_Category) |> summarize(n = n() / 7637 * 100)"
   ]
  },
  {
   "cell_type": "code",
   "execution_count": 83,
   "id": "94b861a4-4cf8-46cf-a07c-02861473249f",
   "metadata": {},
   "outputs": [
    {
     "name": "stdout",
     "output_type": "stream",
     "text": [
      "# A tibble: 1 × 1\n",
      "      n\n",
      "  <int>\n",
      "1  2868\n"
     ]
    }
   ],
   "source": [
    "%%R\n",
    "filter(data, Customer_Age <= 40) |> summarize(n = n())"
   ]
  },
  {
   "cell_type": "code",
   "execution_count": 85,
   "id": "e0a59dcc-40cf-4b14-b00f-bd633730f23d",
   "metadata": {},
   "outputs": [
    {
     "name": "stdout",
     "output_type": "stream",
     "text": [
      "# A tibble: 1 × 1\n",
      "      n\n",
      "  <int>\n",
      "1  7637\n"
     ]
    }
   ],
   "source": [
    "%%R\n",
    "filter(data, Customer_Age >= 40) |> summarize(n = n())"
   ]
  },
  {
   "cell_type": "code",
   "execution_count": null,
   "id": "29647727-b22d-454f-a6cc-351fc69bd414",
   "metadata": {},
   "outputs": [],
   "source": []
  }
 ],
 "metadata": {
  "kernelspec": {
   "display_name": "Python 3 (ipykernel)",
   "language": "python",
   "name": "python3"
  },
  "language_info": {
   "codemirror_mode": {
    "name": "ipython",
    "version": 3
   },
   "file_extension": ".py",
   "mimetype": "text/x-python",
   "name": "python",
   "nbconvert_exporter": "python",
   "pygments_lexer": "ipython3",
   "version": "3.10.1"
  }
 },
 "nbformat": 4,
 "nbformat_minor": 5
}
